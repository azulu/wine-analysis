{
 "cells": [
  {
   "cell_type": "markdown",
   "metadata": {},
   "source": [
    "Let's import the necessary modules.\n",
    "* pycountry courtesy of Christian Theune [https://pypi.org/project/pycountry/], Licence: LGPL\n",
    "* wordcloud courtesy of Andreas Mueller [https://github.com/amueller/word_cloud], Licence: MIT"
   ]
  },
  {
   "cell_type": "code",
   "execution_count": 1,
   "metadata": {},
   "outputs": [],
   "source": [
    "import numpy as np\n",
    "import pandas as pd\n",
    "import matplotlib.pyplot as plt\n",
    "import pycountry as pyc\n",
    "import matplotlib\n",
    "import plotly.offline as offline\n",
    "#from wordcloud import WordCloud"
   ]
  },
  {
   "cell_type": "code",
   "execution_count": 2,
   "metadata": {},
   "outputs": [],
   "source": [
    "df = pd.read_csv(\".\\data\\winemag-data_first150k.csv\", index_col=0)"
   ]
  },
  {
   "cell_type": "markdown",
   "metadata": {},
   "source": [
    "## Overview"
   ]
  },
  {
   "cell_type": "markdown",
   "metadata": {},
   "source": [
    "What does the data actually look like?"
   ]
  },
  {
   "cell_type": "code",
   "execution_count": 3,
   "metadata": {},
   "outputs": [
    {
     "data": {
      "text/html": [
       "<div>\n",
       "<style scoped>\n",
       "    .dataframe tbody tr th:only-of-type {\n",
       "        vertical-align: middle;\n",
       "    }\n",
       "\n",
       "    .dataframe tbody tr th {\n",
       "        vertical-align: top;\n",
       "    }\n",
       "\n",
       "    .dataframe thead th {\n",
       "        text-align: right;\n",
       "    }\n",
       "</style>\n",
       "<table border=\"1\" class=\"dataframe\">\n",
       "  <thead>\n",
       "    <tr style=\"text-align: right;\">\n",
       "      <th></th>\n",
       "      <th>country</th>\n",
       "      <th>description</th>\n",
       "      <th>designation</th>\n",
       "      <th>points</th>\n",
       "      <th>price</th>\n",
       "      <th>province</th>\n",
       "      <th>region_1</th>\n",
       "      <th>region_2</th>\n",
       "      <th>variety</th>\n",
       "      <th>winery</th>\n",
       "    </tr>\n",
       "  </thead>\n",
       "  <tbody>\n",
       "    <tr>\n",
       "      <th>0</th>\n",
       "      <td>US</td>\n",
       "      <td>This tremendous 100% varietal wine hails from ...</td>\n",
       "      <td>Martha's Vineyard</td>\n",
       "      <td>96</td>\n",
       "      <td>235.0</td>\n",
       "      <td>California</td>\n",
       "      <td>Napa Valley</td>\n",
       "      <td>Napa</td>\n",
       "      <td>Cabernet Sauvignon</td>\n",
       "      <td>Heitz</td>\n",
       "    </tr>\n",
       "    <tr>\n",
       "      <th>1</th>\n",
       "      <td>Spain</td>\n",
       "      <td>Ripe aromas of fig, blackberry and cassis are ...</td>\n",
       "      <td>Carodorum Selección Especial Reserva</td>\n",
       "      <td>96</td>\n",
       "      <td>110.0</td>\n",
       "      <td>Northern Spain</td>\n",
       "      <td>Toro</td>\n",
       "      <td>NaN</td>\n",
       "      <td>Tinta de Toro</td>\n",
       "      <td>Bodega Carmen Rodríguez</td>\n",
       "    </tr>\n",
       "    <tr>\n",
       "      <th>2</th>\n",
       "      <td>US</td>\n",
       "      <td>Mac Watson honors the memory of a wine once ma...</td>\n",
       "      <td>Special Selected Late Harvest</td>\n",
       "      <td>96</td>\n",
       "      <td>90.0</td>\n",
       "      <td>California</td>\n",
       "      <td>Knights Valley</td>\n",
       "      <td>Sonoma</td>\n",
       "      <td>Sauvignon Blanc</td>\n",
       "      <td>Macauley</td>\n",
       "    </tr>\n",
       "    <tr>\n",
       "      <th>3</th>\n",
       "      <td>US</td>\n",
       "      <td>This spent 20 months in 30% new French oak, an...</td>\n",
       "      <td>Reserve</td>\n",
       "      <td>96</td>\n",
       "      <td>65.0</td>\n",
       "      <td>Oregon</td>\n",
       "      <td>Willamette Valley</td>\n",
       "      <td>Willamette Valley</td>\n",
       "      <td>Pinot Noir</td>\n",
       "      <td>Ponzi</td>\n",
       "    </tr>\n",
       "    <tr>\n",
       "      <th>4</th>\n",
       "      <td>France</td>\n",
       "      <td>This is the top wine from La Bégude, named aft...</td>\n",
       "      <td>La Brûlade</td>\n",
       "      <td>95</td>\n",
       "      <td>66.0</td>\n",
       "      <td>Provence</td>\n",
       "      <td>Bandol</td>\n",
       "      <td>NaN</td>\n",
       "      <td>Provence red blend</td>\n",
       "      <td>Domaine de la Bégude</td>\n",
       "    </tr>\n",
       "  </tbody>\n",
       "</table>\n",
       "</div>"
      ],
      "text/plain": [
       "  country                                        description  \\\n",
       "0      US  This tremendous 100% varietal wine hails from ...   \n",
       "1   Spain  Ripe aromas of fig, blackberry and cassis are ...   \n",
       "2      US  Mac Watson honors the memory of a wine once ma...   \n",
       "3      US  This spent 20 months in 30% new French oak, an...   \n",
       "4  France  This is the top wine from La Bégude, named aft...   \n",
       "\n",
       "                            designation  points  price        province  \\\n",
       "0                     Martha's Vineyard      96  235.0      California   \n",
       "1  Carodorum Selección Especial Reserva      96  110.0  Northern Spain   \n",
       "2         Special Selected Late Harvest      96   90.0      California   \n",
       "3                               Reserve      96   65.0          Oregon   \n",
       "4                            La Brûlade      95   66.0        Provence   \n",
       "\n",
       "            region_1           region_2             variety  \\\n",
       "0        Napa Valley               Napa  Cabernet Sauvignon   \n",
       "1               Toro                NaN       Tinta de Toro   \n",
       "2     Knights Valley             Sonoma     Sauvignon Blanc   \n",
       "3  Willamette Valley  Willamette Valley          Pinot Noir   \n",
       "4             Bandol                NaN  Provence red blend   \n",
       "\n",
       "                    winery  \n",
       "0                    Heitz  \n",
       "1  Bodega Carmen Rodríguez  \n",
       "2                 Macauley  \n",
       "3                    Ponzi  \n",
       "4     Domaine de la Bégude  "
      ]
     },
     "execution_count": 3,
     "metadata": {},
     "output_type": "execute_result"
    }
   ],
   "source": [
    "df.head()"
   ]
  },
  {
   "cell_type": "markdown",
   "metadata": {},
   "source": [
    "We have 10 columns for every review:\n",
    "\n",
    "5 columns describing the origin of the bottle:\n",
    "* Country\n",
    "* Province\n",
    "* Region 1\n",
    "* Region 2\n",
    "* Winery\n",
    "\n",
    "And:\n",
    "\n",
    "* Designation\n",
    "* Variety\n",
    "* Description\n",
    "* Points (out of 100)\n",
    "* Price (in US$)"
   ]
  },
  {
   "cell_type": "markdown",
   "metadata": {},
   "source": [
    "We can look into how the ratings vary with price. Let's look a bit deeper into the data, first."
   ]
  },
  {
   "cell_type": "code",
   "execution_count": 4,
   "metadata": {},
   "outputs": [
    {
     "data": {
      "text/plain": [
       "count    137235.000000\n",
       "mean         33.131482\n",
       "std          36.322536\n",
       "min           4.000000\n",
       "25%          16.000000\n",
       "50%          24.000000\n",
       "75%          40.000000\n",
       "max        2300.000000\n",
       "Name: price, dtype: float64"
      ]
     },
     "execution_count": 4,
     "metadata": {},
     "output_type": "execute_result"
    }
   ],
   "source": [
    "df['price'].describe()"
   ]
  },
  {
   "cell_type": "markdown",
   "metadata": {},
   "source": [
    "A vast majority of the wines review cost less than 50 USD with a mean of 33 USD. However, we will also have some really expensive items, up to 2,300 USD (!) per bottle."
   ]
  },
  {
   "cell_type": "code",
   "execution_count": 5,
   "metadata": {},
   "outputs": [
    {
     "data": {
      "text/plain": [
       "count    150930.000000\n",
       "mean         87.888418\n",
       "std           3.222392\n",
       "min          80.000000\n",
       "25%          86.000000\n",
       "50%          88.000000\n",
       "75%          90.000000\n",
       "max         100.000000\n",
       "Name: points, dtype: float64"
      ]
     },
     "execution_count": 5,
     "metadata": {},
     "output_type": "execute_result"
    }
   ],
   "source": [
    "df['points'].describe()"
   ]
  },
  {
   "cell_type": "markdown",
   "metadata": {},
   "source": [
    "The user ratings look quite evenly distributed between the scores of 80 and 100."
   ]
  },
  {
   "cell_type": "markdown",
   "metadata": {},
   "source": [
    "## Visualisations"
   ]
  },
  {
   "cell_type": "markdown",
   "metadata": {},
   "source": [
    "### Scatter"
   ]
  },
  {
   "cell_type": "markdown",
   "metadata": {},
   "source": [
    "**TODO**: Show a simple scatter plot and why a log scale needs to be used."
   ]
  },
  {
   "cell_type": "markdown",
   "metadata": {},
   "source": [
    "If the prices were separated in roughly similar intervals, we could be looking at a linear relationship. However, from the looks of it, we are going to have to plot the price on a logarithmic scale."
   ]
  },
  {
   "cell_type": "code",
   "execution_count": 6,
   "metadata": {},
   "outputs": [
    {
     "data": {
      "image/png": "[encoded data removed]",
      "text/plain": [
       "<Figure size 432x288 with 1 Axes>"
      ]
     },
     "metadata": {},
     "output_type": "display_data"
    }
   ],
   "source": [
    "fig = plt.figure()\n",
    "\n",
    "plt.scatter(df['price'], df['points'], s=25, alpha=0.008, c='purple', marker='h') #alpha to emphasise relative density of data points\n",
    "\n",
    "ax = plt.gca()\n",
    "ax.set_xscale('log')\n",
    "\n",
    "fig.suptitle('Wine rating vs price', fontsize=12)\n",
    "ax.set_xlabel('Price [$]')\n",
    "ax.set_ylabel('Rating [out of 100]')\n",
    "\n",
    "plt.show()"
   ]
  },
  {
   "cell_type": "markdown",
   "metadata": {},
   "source": [
    "**TODO** Slice data between 10 USD and 100 USD, and see if you can find have find a better relationship."
   ]
  },
  {
   "cell_type": "markdown",
   "metadata": {},
   "source": [
    "We can see a vague linear correlation between the log'd price and the user rating, with the major cluster at prices 10-100 USD and 80-95 points. The cluster is so wide in both directions, however, that it is quite impossible to reliably predict a value of one metric based on the other.\n",
    "\n",
    "For example, for a price of 20 USD, you are as likely to find a bottle with rating 82.5 as you are with 92.5. Or to find an item with a rating of 90 to cost 10 USD or 100 USD."
   ]
  },
  {
   "cell_type": "markdown",
   "metadata": {},
   "source": [
    "### Map"
   ]
  },
  {
   "cell_type": "markdown",
   "metadata": {},
   "source": [
    "Let's try to model the metrics against different dimensions. From what is left, we can take a look at how ratings and prices vary around the world. One way to do that is with a choropleth map. Plotly has a very good tool for creating those.\n",
    "Before populating the map with data, we need to prepare it to match plotly's specification."
   ]
  },
  {
   "cell_type": "markdown",
   "metadata": {},
   "source": [
    "#### Prepare data"
   ]
  },
  {
   "cell_type": "markdown",
   "metadata": {},
   "source": [
    "The original dataset identifies countries by their full name. We will need something more standardised than that. This short function returns an ISO-3 country code from a country name."
   ]
  },
  {
   "cell_type": "code",
   "execution_count": null,
   "metadata": {},
   "outputs": [],
   "source": [
    "#Get country ISO-3 code from a name\n",
    "def ccode(cname):\n",
    "    \n",
    "    #Check if the name exists in the pycountry list\n",
    "    try:\n",
    "        return pyc.countries.get(name=cname).alpha_3\n",
    "    \n",
    "    except KeyError:\n",
    "        \n",
    "        #Check if the short name works (e.g. US)\n",
    "        try:    \n",
    "            return pyc.countries.get(alpha_2=cname).alpha_3\n",
    "        \n",
    "        except KeyError:\n",
    "            return None\n",
    "    \n",
    "    #Special case for UK \n",
    "    if(cname=='UK'):\n",
    "        return 'GBR'"
   ]
  },
  {
   "cell_type": "markdown",
   "metadata": {},
   "source": [
    "Now, let's apply it to our DataFrame."
   ]
  },
  {
   "cell_type": "code",
   "execution_count": null,
   "metadata": {},
   "outputs": [],
   "source": [
    "#Apply the country coding function\n",
    "df['country_code'] = df['country'].apply(ccode)"
   ]
  },
  {
   "cell_type": "markdown",
   "metadata": {},
   "source": [
    "It's time to generate some new metrics. Let's count the numbers of reviews for each country and add this data to a new DataFrame."
   ]
  },
  {
   "cell_type": "code",
   "execution_count": null,
   "metadata": {},
   "outputs": [],
   "source": [
    "world_occurences = df['country_code'].value_counts()\n",
    "world_occurences = world_occurences.dropna()\n",
    "\n",
    "df_map = pd.DataFrame({'occurences': world_occurences})"
   ]
  },
  {
   "cell_type": "markdown",
   "metadata": {},
   "source": [
    "To create a (static) choropleth map, we need a single value for each country"
   ]
  },
  {
   "cell_type": "code",
   "execution_count": null,
   "metadata": {},
   "outputs": [],
   "source": [
    "#Average score for each country\n",
    "df_map['avg_points'] = df.groupby('country_code')['points'].mean()\n",
    "#Average price for each country ($ ?)\n",
    "df_map['avg_price'] = df.groupby('country_code')['price'].mean()\n",
    "\n",
    "#Create dictionary for mapping country names to country codes from the initial DataFrame\n",
    "cmap = df[['country_code', 'country']].copy().dropna().drop_duplicates().set_index('country_code').to_dict()['country']\n",
    "df_map['country_code'] = df_world.index\n",
    "#Map country names to codes\n",
    "df_map['country'] = df_map['country_code'].map(cmap)"
   ]
  },
  {
   "cell_type": "code",
   "execution_count": null,
   "metadata": {},
   "outputs": [],
   "source": [
    "#Formats a cmap into an RGB map ---(source: plotly API)---\n",
    "def cmap_RGB(col_map, inverse):\n",
    "    \n",
    "    cmap = matplotlib.cm.get_cmap(col_map)\n",
    "    col_map_rgb = []\n",
    "    norm = matplotlib.colors.Normalize(vmin=0, vmax=255)\n",
    "    \n",
    "    for i in range(0, 255):\n",
    "        k = matplotlib.colors.colorConverter.to_rgb(cmap(norm(i)))\n",
    "        col_map_rgb.append(k)\n",
    "    \n",
    "    def matplotlib_plotly(c_map, pl_entries):\n",
    "        h = 1.0/(pl_entries-1)\n",
    "        pl_colorscale = []\n",
    "        \n",
    "        for k in range(pl_entries):\n",
    "            \n",
    "            if(inverse):\n",
    "                idx = ((pl_entries-1)-k)*h #inverse the colour order\n",
    "            else:\n",
    "                idx = k*h #regular order\n",
    "            \n",
    "            \n",
    "            c = list(map(np.uint8, np.array(c_map(idx)[:3])*255))\n",
    "            pl_colorscale.append([k*h, 'rgb'+str((c[0], c[1], c[2]))])\n",
    "            \n",
    "        return pl_colorscale\n",
    "    \n",
    "    return matplotlib_plotly(cmap, 255)"
   ]
  },
  {
   "cell_type": "code",
   "execution_count": null,
   "metadata": {},
   "outputs": [],
   "source": [
    "#Create a choropleth chart ---(source: plotly API)---\n",
    "#def choropleth(df_world, world_meas, measure):\n",
    "    \n",
    "#Data and styling for plotting\n",
    "data = [dict(\n",
    "        type = 'choropleth',\n",
    "        locations =  df_world['country_code'], #dimension, displayed\n",
    "        z = df_world[world_meas], #measure, displayed\n",
    "        text = df_world['country'], #displayed country names\n",
    "        colorscale = cmap_RGB('BuPu', True),\n",
    "        autocolorscale = False,\n",
    "        reversescale = True, #legend goes from high to low\n",
    "        marker = dict(\n",
    "                line = dict(\n",
    "                        color = 'rgb(180,180,180)',\n",
    "                        width = 0.5\n",
    "                        )),\n",
    "        colorbar = dict(\n",
    "                title = measure),)]"
   ]
  },
  {
   "cell_type": "code",
   "execution_count": null,
   "metadata": {},
   "outputs": [],
   "source": [
    "#Chart layout properties\n",
    "layout = dict(\n",
    "        title = measure + ' per country',\n",
    "        geo = dict(\n",
    "                showframe = False,\n",
    "                showcoastlines = False, #country coastlines\n",
    "                showcountries = True, #country borders\n",
    "                projection = dict(\n",
    "                        type = 'Mercator')))"
   ]
  },
  {
   "cell_type": "code",
   "execution_count": null,
   "metadata": {},
   "outputs": [],
   "source": [
    "#Combine chart properties\n",
    "fig = dict(\n",
    "        data = data,\n",
    "        layout = layout)\n",
    "\n",
    "#Save an offline copy of the chart\n",
    "offline.plot(fig, filename='wine-scores-map.html')"
   ]
  }
 ],
 "metadata": {
  "kernelspec": {
   "display_name": "Python 3",
   "language": "python",
   "name": "python3"
  },
  "language_info": {
   "codemirror_mode": {
    "name": "ipython",
    "version": 3
   },
   "file_extension": ".py",
   "mimetype": "text/x-python",
   "name": "python",
   "nbconvert_exporter": "python",
   "pygments_lexer": "ipython3",
   "version": "3.6.4"
  }
 },
 "nbformat": 4,
 "nbformat_minor": 2
}
